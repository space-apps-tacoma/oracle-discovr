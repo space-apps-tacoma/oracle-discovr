{
 "cells": [
  {
   "cell_type": "code",
   "execution_count": 1,
   "id": "2f8e86ac",
   "metadata": {},
   "outputs": [],
   "source": [
    "import pandas as pd\n",
    "\n",
    "# Read the CSV file into a DataFrame\n",
    "data = pd.read_csv('20170906FSIM.csv', header=None, squeeze=True)"
   ]
  },
  {
   "cell_type": "code",
   "execution_count": 4,
   "id": "3cb26795",
   "metadata": {},
   "outputs": [],
   "source": [
    "# Convert the DataFrame into a list for easier processing\n",
    "data_list = data['Data'].tolist()\n",
    "\n",
    "# Process the list to get the desired format\n",
    "reformatted_data = []\n",
    "\n",
    "i = 1  # Start from 1 to skip the header\n",
    "while i < len(data_list) - 2:\n",
    "    timestamp = data_list[i]\n",
    "    \n",
    "    # Check if the current row is a timestamp\n",
    "    if timestamp.split()[0].isdigit():\n",
    "        # First data row with timestamp\n",
    "        row1 = [timestamp] + data_list[i + 1].split()\n",
    "        reformatted_data.append(row1)\n",
    "        \n",
    "        # Second data row without timestamp\n",
    "        row2 = [\"\"] + data_list[i + 2].split()\n",
    "        reformatted_data.append(row2)\n",
    "        \n",
    "        i += 3  # Move to the next timestamp\n",
    "    else:\n",
    "        i += 1  # Skip this row and continue\n",
    "\n",
    "# Convert the reformatted data to a DataFrame\n",
    "df_reformatted_corrected = pd.DataFrame(reformatted_data, columns=[\"Timestamp\", \"Value1\", \"Value2\", \"Value3\"])\n",
    "\n",
    "# Optionally save the reformatted DataFrame to a new CSV file\n",
    "# df_reformatted.to_csv('reformatted_data.csv', index=False, header=False)"
   ]
  },
  {
   "cell_type": "code",
   "execution_count": 3,
   "id": "ad88199d",
   "metadata": {},
   "outputs": [],
   "source": [
    "# reformatted_rows = []\n",
    "\n",
    "# # Initialize a variable to keep track of the current row in reformatted_rows\n",
    "# current_row = []\n",
    "\n",
    "# # Iterate through the rows of the original DataFrame\n",
    "# for index, row in data.iterrows():\n",
    "#     # Check if the row contains a timestamp (assuming timestamps are in column 0)\n",
    "#     if row[0].isdigit():\n",
    "#         # If it does, add the current_row to reformatted_rows and start a new row\n",
    "#         if current_row:\n",
    "#             reformatted_rows.append(current_row)\n",
    "#         current_row = [row[0]]  # Start a new row with the timestamp\n",
    "#     else:\n",
    "#         # If it doesn't, append the values to the current row\n",
    "#         current_row.extend(row[1:])  # Append values excluding the timestamp\n",
    "\n",
    "# # Add the last current_row to reformatted_rows\n",
    "# if current_row:\n",
    "#     reformatted_rows.append(current_row)\n",
    "\n",
    "# # Create a new DataFrame from the reformatted data\n",
    "# df_reformatted = pd.DataFrame(reformatted_rows)\n",
    "\n",
    "# # Print the reformatted DataFrame\n",
    "# df_reformatted.head()"
   ]
  },
  {
   "cell_type": "code",
   "execution_count": null,
   "id": "b4a84976",
   "metadata": {},
   "outputs": [],
   "source": []
  }
 ],
 "metadata": {
  "kernelspec": {
   "display_name": "Python 3 (ipykernel)",
   "language": "python",
   "name": "python3"
  },
  "language_info": {
   "codemirror_mode": {
    "name": "ipython",
    "version": 3
   },
   "file_extension": ".py",
   "mimetype": "text/x-python",
   "name": "python",
   "nbconvert_exporter": "python",
   "pygments_lexer": "ipython3",
   "version": "3.11.4"
  }
 },
 "nbformat": 4,
 "nbformat_minor": 5
}
